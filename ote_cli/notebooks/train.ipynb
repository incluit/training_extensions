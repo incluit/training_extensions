{
 "cells": [
  {
   "cell_type": "markdown",
   "id": "a00b3aed",
   "metadata": {},
   "source": [
    "# Object Detection"
   ]
  },
  {
   "cell_type": "markdown",
   "id": "9548bf78",
   "metadata": {},
   "source": [
    "## Import everything"
   ]
  },
  {
   "cell_type": "code",
   "execution_count": 3,
   "id": "717eca7a",
   "metadata": {
    "scrolled": true
   },
   "outputs": [],
   "source": [
    "import os\n",
    "import sys\n",
    "\n",
    "import cv2\n",
    "import numpy as np\n",
    "\n",
    "from ote_sdk.configuration.helper import create as create_parameters_from_parameters_schema\n",
    "from ote_sdk.entities.inference_parameters import InferenceParameters\n",
    "from ote_sdk.entities.label_schema import LabelSchemaEntity\n",
    "from ote_sdk.entities.model import ModelEntity, ModelStatus\n",
    "from ote_sdk.entities.model_template import parse_model_template\n",
    "from ote_sdk.entities.resultset import ResultSetEntity\n",
    "from ote_sdk.entities.subset import Subset\n",
    "from ote_sdk.entities.task_environment import TaskEnvironment\n",
    "from ote_sdk.usecases.tasks.interfaces.export_interface import ExportType\n",
    "\n",
    "from ote_cli.datasets import get_dataset_class\n",
    "from ote_cli.registry import Registry\n",
    "from ote_cli.utils.importing import get_impl_class"
   ]
  },
  {
   "cell_type": "markdown",
   "id": "e7ad843f",
   "metadata": {},
   "source": [
    "## Register templates"
   ]
  },
  {
   "cell_type": "code",
   "execution_count": 4,
   "id": "22c86d79",
   "metadata": {
    "scrolled": true
   },
   "outputs": [
    {
     "name": "stdout",
     "output_type": "stream",
     "text": [
      "- id: Custom_Object_Detection_Gen3_ATSS\n",
      "  name: ATSS\n",
      "  path: /home/mau/intel/training/training_extensions/external/mmdetection/configs/ote/custom-object-detection/gen3_mobilenetV2_ATSS/template.yaml\n",
      "  task_type: DETECTION\n",
      "- id: Custom_Object_Detection_Gen3_SSD\n",
      "  name: SSD\n",
      "  path: /home/mau/intel/training/training_extensions/external/mmdetection/configs/ote/custom-object-detection/gen3_mobilenetV2_SSD/template.yaml\n",
      "  task_type: DETECTION\n",
      "\n"
     ]
    }
   ],
   "source": [
    "templates_dir = '../../external'\n",
    "TYPE = \"DETECTION\"\n",
    "#registry = Registry(templates_dir).filter(task_type=sys.executable.split(os.sep)[-4])\n",
    "registry = Registry(templates_dir).filter(task_type=TYPE)\n",
    "print(registry)"
   ]
  },
  {
   "cell_type": "markdown",
   "id": "530a64b5",
   "metadata": {},
   "source": [
    "## Load model template and its hyper parameters"
   ]
  },
  {
   "cell_type": "code",
   "execution_count": 5,
   "id": "203f08de",
   "metadata": {
    "scrolled": true
   },
   "outputs": [
    {
     "name": "stdout",
     "output_type": "stream",
     "text": [
      "<class 'ote_sdk.entities.model_template.ModelTemplate'> \n",
      " <class 'dict'>\n"
     ]
    }
   ],
   "source": [
    "model_template = registry.get('Custom_Object_Detection_Gen3_ATSS')\n",
    "hyper_parameters = model_template.hyper_parameters.data\n",
    "print(type(model_template), \"\\n\", type(hyper_parameters))"
   ]
  },
  {
   "cell_type": "markdown",
   "id": "a5fbfd14",
   "metadata": {},
   "source": [
    "## Get dataset instantiated"
   ]
  },
  {
   "cell_type": "code",
   "execution_count": 6,
   "id": "7b43d83e",
   "metadata": {
    "scrolled": false
   },
   "outputs": [
    {
     "name": "stdout",
     "output_type": "stream",
     "text": [
      "No CUDA runtime is found, using CUDA_HOME='/usr'\n",
      "loading annotations into memory...\n",
      "Done (t=0.00s)\n",
      "creating index...\n",
      "index created!\n",
      "loading annotations into memory...\n",
      "Done (t=0.00s)\n",
      "creating index...\n",
      "index created!\n"
     ]
    }
   ],
   "source": [
    "Dataset = get_dataset_class(model_template.task_type)\n",
    "\n",
    "dataset = Dataset(\n",
    "    train_subset={'ann_file': '../../data/airport/annotation_faces_train.json',\n",
    "                  'data_root': '../../data/airport/'},\n",
    "    val_subset={'ann_file': '../../data/airport/annotation_faces_train.json',\n",
    "                'data_root': '../../data/airport'}\n",
    ")\n",
    "labels_schema = LabelSchemaEntity.from_labels(dataset.get_labels())"
   ]
  },
  {
   "cell_type": "markdown",
   "id": "a2c260bb",
   "metadata": {},
   "source": [
    "## Have a look at existing parameters"
   ]
  },
  {
   "cell_type": "code",
   "execution_count": 7,
   "id": "8c340c7d",
   "metadata": {
    "scrolled": true
   },
   "outputs": [
    {
     "name": "stdout",
     "output_type": "stream",
     "text": [
      "batch_size: 8\n",
      "learning_rate: 0.008\n",
      "learning_rate_warmup_iters: 200\n",
      "num_iters: 300\n",
      "num_workers: 4\n"
     ]
    }
   ],
   "source": [
    "hyper_parameters = create_parameters_from_parameters_schema(hyper_parameters)\n",
    "\n",
    "for p in hyper_parameters.learning_parameters.parameters:\n",
    "    print(f'{p}: {getattr(hyper_parameters.learning_parameters, p)}')"
   ]
  },
  {
   "cell_type": "markdown",
   "id": "c2c28d21",
   "metadata": {},
   "source": [
    "## Tweak parameters"
   ]
  },
  {
   "cell_type": "code",
   "execution_count": 8,
   "id": "c791af77",
   "metadata": {},
   "outputs": [
    {
     "name": "stdout",
     "output_type": "stream",
     "text": [
      "batch_size: 8\n",
      "learning_rate: 0.008\n",
      "learning_rate_warmup_iters: 200\n",
      "num_iters: 5\n",
      "num_workers: 4\n"
     ]
    }
   ],
   "source": [
    "hyper_parameters.learning_parameters.batch_size = 8\n",
    "hyper_parameters.learning_parameters.num_iters = 5\n",
    "\n",
    "for p in hyper_parameters.learning_parameters.parameters:\n",
    "    print(f'{p}: {getattr(hyper_parameters.learning_parameters, p)}')"
   ]
  },
  {
   "cell_type": "markdown",
   "id": "0af16f4a",
   "metadata": {},
   "source": [
    "## Create Task "
   ]
  },
  {
   "cell_type": "code",
   "execution_count": 9,
   "id": "d94afc32",
   "metadata": {},
   "outputs": [
    {
     "name": "stderr",
     "output_type": "stream",
     "text": [
      "15:01:58 accuracy_checker WARNING: /home/mau/intel/training/training_extensions/det_venv/lib/python3.8/site-packages/defusedxml/__init__.py:30: DeprecationWarning: defusedxml.cElementTree is deprecated, import from defusedxml.ElementTree instead.\n",
      "  from . import cElementTree\n",
      "\n",
      "15:01:58 accuracy_checker WARNING: /home/mau/intel/training/training_extensions/det_venv/lib/python3.8/site-packages/compression/algorithms/quantization/optimization/algorithm.py:29: UserWarning: Nevergrad package could not be imported. If you are planning to useany hyperparameter optimization algo, consider installing itusing pip. This implies advanced usage of the tool.Note that nevergrad is compatible only with Python 3.6+\n",
      "  warnings.warn(\n",
      "\n",
      "2022-08-22 15:01:58,898 - mmdet - INFO - Loading OTEDetectionTask\n"
     ]
    },
    {
     "name": "stdout",
     "output_type": "stream",
     "text": [
      "[ INFO ] Loading OTEDetectionTask\n"
     ]
    },
    {
     "name": "stderr",
     "output_type": "stream",
     "text": [
      "[ INFO ]  Loading OTEDetectionTask\n"
     ]
    },
    {
     "name": "stdout",
     "output_type": "stream",
     "text": [
      "ENVIRONMENT:\n",
      "sys.platform: linux\n",
      "Python: 3.8.10 (default, Jun 22 2022, 20:18:18) [GCC 9.4.0]\n",
      "CUDA available: False\n",
      "GCC: gcc (Ubuntu 9.4.0-1ubuntu1~20.04.1) 9.4.0\n",
      "PyTorch: 1.8.2+cpu\n",
      "PyTorch compiling details: PyTorch built with:\n",
      "  - GCC 7.3\n",
      "  - C++ Version: 201402\n",
      "  - Intel(R) Math Kernel Library Version 2020.0.0 Product Build 20191122 for Intel(R) 64 architecture applications\n",
      "  - Intel(R) MKL-DNN v1.7.0 (Git Hash 7aed236906b1f7a05c0917e5257a1af05e9ff683)\n",
      "  - OpenMP 201511 (a.k.a. OpenMP 4.5)\n",
      "  - NNPACK is enabled\n",
      "  - CPU capability usage: AVX2\n",
      "  - Build settings: BLAS_INFO=mkl, BUILD_TYPE=Release, CXX_COMPILER=/opt/rh/devtoolset-7/root/usr/bin/c++, CXX_FLAGS= -Wno-deprecated -fvisibility-inlines-hidden -DUSE_PTHREADPOOL -fopenmp -DNDEBUG -DUSE_FBGEMM -DUSE_QNNPACK -DUSE_PYTORCH_QNNPACK -DUSE_XNNPACK -O2 -fPIC -Wno-narrowing -Wall -Wextra -Werror=return-type -Wno-missing-field-initializers -Wno-type-limits -Wno-array-bounds -Wno-unknown-pragmas -Wno-sign-compare -Wno-unused-parameter -Wno-unused-variable -Wno-unused-function -Wno-unused-result -Wno-unused-local-typedefs -Wno-strict-overflow -Wno-strict-aliasing -Wno-error=deprecated-declarations -Wno-stringop-overflow -Wno-psabi -Wno-error=pedantic -Wno-error=redundant-decls -Wno-error=old-style-cast -fdiagnostics-color=always -faligned-new -Wno-unused-but-set-variable -Wno-maybe-uninitialized -fno-math-errno -fno-trapping-math -Werror=format -Wno-stringop-overflow, LAPACK_INFO=mkl, PERF_WITH_AVX=1, PERF_WITH_AVX2=1, PERF_WITH_AVX512=1, TORCH_VERSION=1.8.2, USE_CUDA=0, USE_CUDNN=OFF, USE_EXCEPTION_PTR=1, USE_GFLAGS=OFF, USE_GLOG=OFF, USE_MKL=ON, USE_MKLDNN=ON, USE_MPI=OFF, USE_NCCL=OFF, USE_NNPACK=ON, USE_OPENMP=ON, \n",
      "\n",
      "TorchVision: 0.9.2+cpu\n",
      "OpenCV: 4.5.3\n",
      "MMCV: 1.3.14\n",
      "MMCV Compiler: GCC 9.4\n",
      "MMCV CUDA Compiler: not available\n",
      "MMDetection: 2.9.0+e7aa33a\n",
      "MMDetection Compiler: GCC 9.4\n",
      "MMDetection CUDA Compiler: not available\n",
      "NNCF: 2.0.0\n",
      "ONNX: 1.10.1\n",
      "ONNXRuntime: 1.9.0\n",
      "OpenVINO MO: 2021.4.2-3976-0943ed67223-refs/pull/539/head\n",
      "OpenVINO IE: 2021.4.2-3976-0943ed67223-refs/pull/539/head\n",
      "pip list:\n"
     ]
    },
    {
     "name": "stderr",
     "output_type": "stream",
     "text": [
      "WARNING: You are using pip version 21.2.1; however, version 22.2.2 is available.\n",
      "You should consider upgrading via the '/home/mau/intel/training/training_extensions/det_venv/bin/python3 -m pip install --upgrade pip' command.\n",
      "2022-08-22 15:01:59,355 - mmdet - INFO - Scratch space created at /tmp/ote-det-scratch-_g6qhbxh\n"
     ]
    },
    {
     "name": "stdout",
     "output_type": "stream",
     "text": [
      "Package                 Version     Location\n",
      "----------------------- ----------- -----------------------------------------------------------------\n",
      "absl-py                 0.15.0\n",
      "addict                  2.4.0\n",
      "albumentations          0.4.6\n",
      "antlr4-python3-runtime  4.8\n",
      "argon2-cffi             21.3.0\n",
      "argon2-cffi-bindings    21.2.0\n",
      "asttokens               2.0.8\n",
      "asynctest               0.13.0\n",
      "attrs                   21.2.0\n",
      "backcall                0.2.0\n",
      "bayesian-optimization   1.2.0\n",
      "beautifulsoup4          4.11.1\n",
      "bleach                  5.0.1\n",
      "cachetools              4.2.4\n",
      "certifi                 2021.10.8\n",
      "cffi                    1.15.1\n",
      "chardet                 4.0.0\n",
      "click                   8.0.3\n",
      "codecov                 2.1.12\n",
      "colorama                0.4.4\n",
      "coverage                6.0.2\n",
      "cycler                  0.10.0\n",
      "Cython                  0.29.24\n",
      "debugpy                 1.6.3\n",
      "decorator               5.1.1\n",
      "defusedxml              0.7.1\n",
      "editdistance            0.6.0\n",
      "entrypoints             0.4\n",
      "executing               0.10.0\n",
      "fast_ctc_decode         0.3.0\n",
      "fastjsonschema          2.16.1\n",
      "flake8                  4.0.1\n",
      "flatbuffers             1.12\n",
      "future                  0.18.2\n",
      "google-auth             1.35.0\n",
      "google-auth-oauthlib    0.4.6\n",
      "grpcio                  1.32.0\n",
      "hpopt                   0.1.0\n",
      "hyperopt                0.1.2\n",
      "idna                    2.10\n",
      "imagecorruptions        1.1.2\n",
      "imageio                 2.9.0\n",
      "imagesize               1.2.0\n",
      "imgaug                  0.4.0\n",
      "importlib-metadata      4.12.0\n",
      "iniconfig               1.1.1\n",
      "interrogate             1.5.0\n",
      "ipykernel               6.15.1\n",
      "ipython                 8.4.0\n",
      "ipython-genutils        0.2.0\n",
      "isort                   4.3.21\n",
      "jedi                    0.18.1\n",
      "Jinja2                  3.1.2\n",
      "joblib                  1.1.0\n",
      "jsonschema              3.2.0\n",
      "jstyleson               0.0.2\n",
      "jupyter-client          7.3.4\n",
      "jupyter-core            4.11.1\n",
      "jupyterlab-pygments     0.2.2\n",
      "kiwisolver              1.3.2\n",
      "kwarray                 0.5.19\n",
      "lxml                    4.9.1\n",
      "Markdown                3.3.4\n",
      "MarkupSafe              2.1.1\n",
      "matplotlib              3.4.3\n",
      "matplotlib-inline       0.1.6\n",
      "mccabe                  0.6.1\n",
      "mistune                 2.0.4\n",
      "mmcv-full               1.3.14\n",
      "mmdet                   2.9.0       /home/mau/intel/training/training_extensions/external/mmdetection\n",
      "mmpycocotools           12.0.3\n",
      "natsort                 7.1.1\n",
      "nbclient                0.6.6\n",
      "nbconvert               7.0.0\n",
      "nbformat                5.4.0\n",
      "nbmake                  1.3.4\n",
      "nest-asyncio            1.5.5\n",
      "networkx                2.6.3\n",
      "nibabel                 3.2.1\n",
      "ninja                   1.10.2.2\n",
      "nltk                    3.6.5\n",
      "nncf                    2.0.0\n",
      "notebook                6.4.12\n",
      "numpy                   1.19.5\n",
      "oauthlib                3.1.1\n",
      "omegaconf               2.1.2\n",
      "onnx                    1.10.1\n",
      "onnxoptimizer           0.2.6\n",
      "onnxruntime             1.9.0\n",
      "opencv-python           4.5.3.56\n",
      "openmodelzoo-modelapi   0.0.0\n",
      "openvino                2021.4.2\n",
      "openvino-dev            2021.4.2\n",
      "ordered-set             4.0.2\n",
      "ote-cli                 0.2         /home/mau/intel/training/training_extensions/ote_cli\n",
      "OTE-SDK                 1.0\n",
      "packaging               21.0\n",
      "pandas                  1.1.5\n",
      "pandocfilters           1.5.0\n",
      "parasail                1.2.4\n",
      "parso                   0.8.3\n",
      "pexpect                 4.8.0\n",
      "pickleshare             0.7.5\n",
      "Pillow                  8.4.0\n",
      "pip                     21.2.1\n",
      "pkg_resources           0.0.0\n",
      "pluggy                  1.0.0\n",
      "progress                1.6\n",
      "prometheus-client       0.14.1\n",
      "prompt-toolkit          3.0.30\n",
      "protobuf                3.14.0\n",
      "psutil                  5.9.1\n",
      "ptyprocess              0.7.0\n",
      "pure-eval               0.2.2\n",
      "py                      1.10.0\n",
      "py-cpuinfo              8.0.0\n",
      "pyasn1                  0.4.8\n",
      "pyasn1-modules          0.2.8\n",
      "pycodestyle             2.8.0\n",
      "pycparser               2.21\n",
      "pydantic                1.9.2\n",
      "pydicom                 2.2.2\n",
      "pydot                   1.4.2\n",
      "pyflakes                2.4.0\n",
      "Pygments                2.13.0\n",
      "pymongo                 3.11.1\n",
      "pyparsing               2.4.7\n",
      "pyrsistent              0.18.0\n",
      "pytest                  6.2.5\n",
      "pytest-ordering         0.6\n",
      "python-dateutil         2.8.2\n",
      "pytorchcv               0.0.55\n",
      "pytz                    2021.3\n",
      "PyWavelets              1.1.1\n",
      "PyYAML                  5.4.1\n",
      "pyzmq                   23.2.1\n",
      "rawpy                   0.16.0\n",
      "regex                   2021.10.21\n",
      "requests                2.25.1\n",
      "requests-oauthlib       1.3.0\n",
      "rsa                     4.7.2\n",
      "scikit-image            0.17.2\n",
      "scikit-learn            0.24.2\n",
      "scipy                   1.5.4\n",
      "Send2Trash              1.8.0\n",
      "sentencepiece           0.1.96\n",
      "setuptools              65.2.0\n",
      "Shapely                 1.7.1\n",
      "six                     1.15.0\n",
      "sklearn                 0.0\n",
      "soupsieve               2.3.2.post1\n",
      "stack-data              0.4.0\n",
      "sty                     1.0.0b12\n",
      "tabulate                0.8.9\n",
      "tensorboard             2.7.0\n",
      "tensorboard-data-server 0.6.1\n",
      "tensorboard-plugin-wit  1.8.0\n",
      "terminado               0.15.0\n",
      "terminaltables          3.1.0\n",
      "testfixtures            6.18.3\n",
      "texttable               1.6.4\n",
      "threadpoolctl           3.0.0\n",
      "tifffile                2021.10.12\n",
      "tinycss2                1.1.1\n",
      "tokenizers              0.10.3\n",
      "toml                    0.10.2\n",
      "torch                   1.8.2+cpu\n",
      "torchvision             0.9.2+cpu\n",
      "tornado                 6.2\n",
      "tqdm                    4.62.3\n",
      "traitlets               5.3.0\n",
      "typing-extensions       3.7.4.3\n",
      "ubelt                   0.10.1\n",
      "urllib3                 1.26.7\n",
      "wcwidth                 0.2.5\n",
      "webencodings            0.5.1\n",
      "Werkzeug                2.0.2\n",
      "wheel                   0.37.1\n",
      "xdoctest                0.15.10\n",
      "yamlloader              1.1.0\n",
      "yapf                    0.31.0\n",
      "zipp                    3.8.1\n",
      "[ INFO ] Scratch space created at /tmp/ote-det-scratch-_g6qhbxh\n"
     ]
    },
    {
     "name": "stderr",
     "output_type": "stream",
     "text": [
      "[ INFO ]  Scratch space created at /tmp/ote-det-scratch-_g6qhbxh\n",
      "2022-08-22 15:01:59,361 - mmdet - INFO - Replacing runner from EpochRunnerWithCancel to EpochRunnerWithCancel.\n"
     ]
    },
    {
     "name": "stdout",
     "output_type": "stream",
     "text": [
      "[ INFO ] Replacing runner from EpochRunnerWithCancel to EpochRunnerWithCancel.\n"
     ]
    },
    {
     "name": "stderr",
     "output_type": "stream",
     "text": [
      "[ INFO ]  Replacing runner from EpochRunnerWithCancel to EpochRunnerWithCancel.\n",
      "2022-08-22 15:01:59,364 - mmdet - INFO - Loading the model\n"
     ]
    },
    {
     "name": "stdout",
     "output_type": "stream",
     "text": [
      "[ INFO ] Loading the model\n"
     ]
    },
    {
     "name": "stderr",
     "output_type": "stream",
     "text": [
      "[ INFO ]  Loading the model\n",
      "2022-08-22 15:01:59,365 - mmdet - WARNING - https://storage.openvinotoolkit.org/repositories/openvino_training_extensions/models/object_detection/v2/mobilenet_v2-atss.pth\n"
     ]
    },
    {
     "name": "stdout",
     "output_type": "stream",
     "text": [
      "[ WARNING ] https://storage.openvinotoolkit.org/repositories/openvino_training_extensions/models/object_detection/v2/mobilenet_v2-atss.pth\n"
     ]
    },
    {
     "name": "stderr",
     "output_type": "stream",
     "text": [
      "[ WARNING ]  https://storage.openvinotoolkit.org/repositories/openvino_training_extensions/models/object_detection/v2/mobilenet_v2-atss.pth\n",
      "2022-08-22 15:01:59,366 - mmdet - WARNING - build detector\n"
     ]
    },
    {
     "name": "stdout",
     "output_type": "stream",
     "text": [
      "[ WARNING ] build detector\n"
     ]
    },
    {
     "name": "stderr",
     "output_type": "stream",
     "text": [
      "[ WARNING ]  build detector\n",
      "2022-08-22 15:01:59,367 - mmdet - WARNING - Init model mobilenetv2_w1, pretrained=True, models cache ~/.torch/models\n"
     ]
    },
    {
     "name": "stdout",
     "output_type": "stream",
     "text": [
      "[ WARNING ] Init model mobilenetv2_w1, pretrained=True, models cache ~/.torch/models\n"
     ]
    },
    {
     "name": "stderr",
     "output_type": "stream",
     "text": [
      "[ WARNING ]  Init model mobilenetv2_w1, pretrained=True, models cache ~/.torch/models\n",
      "2022-08-22 15:01:59,478 - mmdet - WARNING - load checkpoint\n"
     ]
    },
    {
     "name": "stdout",
     "output_type": "stream",
     "text": [
      "[ WARNING ] load checkpoint\n"
     ]
    },
    {
     "name": "stderr",
     "output_type": "stream",
     "text": [
      "[ WARNING ]  load checkpoint\n",
      "2022-08-22 15:01:59,508 - mmdet - INFO - No trained model in project yet. Created new model with 'ATSS' architecture and general-purpose pretrained weights.\n"
     ]
    },
    {
     "name": "stdout",
     "output_type": "stream",
     "text": [
      "Use load_from_http loader\n",
      "The model and loaded state dict do not match exactly\n",
      "\n",
      "size mismatch for bbox_head.atss_cls.weight: copying a param with shape torch.Size([80, 64, 3, 3]) from checkpoint, the shape in current model is torch.Size([1, 64, 3, 3]).\n",
      "size mismatch for bbox_head.atss_cls.bias: copying a param with shape torch.Size([80]) from checkpoint, the shape in current model is torch.Size([1]).\n",
      "[ INFO ] No trained model in project yet. Created new model with 'ATSS' architecture and general-purpose pretrained weights.\n"
     ]
    },
    {
     "name": "stderr",
     "output_type": "stream",
     "text": [
      "[ INFO ]  No trained model in project yet. Created new model with 'ATSS' architecture and general-purpose pretrained weights.\n",
      "2022-08-22 15:01:59,509 - mmdet - INFO - Task initialization completed\n"
     ]
    },
    {
     "name": "stdout",
     "output_type": "stream",
     "text": [
      "[ INFO ] Task initialization completed\n"
     ]
    },
    {
     "name": "stderr",
     "output_type": "stream",
     "text": [
      "[ INFO ]  Task initialization completed\n"
     ]
    }
   ],
   "source": [
    "Task = get_impl_class(model_template.entrypoints.base)\n",
    "\n",
    "environment = TaskEnvironment(\n",
    "    model=None,\n",
    "    hyper_parameters=hyper_parameters,\n",
    "    label_schema=labels_schema,\n",
    "    model_template=model_template)\n",
    "        \n",
    "task = Task(task_environment=environment)"
   ]
  },
  {
   "cell_type": "markdown",
   "id": "8b02f5fe",
   "metadata": {},
   "source": [
    "## Run training"
   ]
  },
  {
   "cell_type": "code",
   "execution_count": null,
   "id": "cd9896ee",
   "metadata": {
    "scrolled": true
   },
   "outputs": [
    {
     "name": "stderr",
     "output_type": "stream",
     "text": [
      "2022-08-22 15:02:06,837 - mmdet - INFO - Training the model\n"
     ]
    },
    {
     "name": "stdout",
     "output_type": "stream",
     "text": [
      "[ INFO ] Training the model\n"
     ]
    },
    {
     "name": "stderr",
     "output_type": "stream",
     "text": [
      "[ INFO ]  Training the model\n",
      "2022-08-22 15:02:06,866 - mmdet - INFO - Checkpoints and logs for this training run are stored in /tmp/ote-det-scratch-_g6qhbxh/checkpoints_round_0\n"
     ]
    },
    {
     "name": "stdout",
     "output_type": "stream",
     "text": [
      "[ INFO ] Checkpoints and logs for this training run are stored in /tmp/ote-det-scratch-_g6qhbxh/checkpoints_round_0\n"
     ]
    },
    {
     "name": "stderr",
     "output_type": "stream",
     "text": [
      "[ INFO ]  Checkpoints and logs for this training run are stored in /tmp/ote-det-scratch-_g6qhbxh/checkpoints_round_0\n",
      "2022-08-22 15:02:06,869 - mmdet - INFO - Start training\n"
     ]
    },
    {
     "name": "stdout",
     "output_type": "stream",
     "text": [
      "[ INFO ] Start training\n"
     ]
    },
    {
     "name": "stderr",
     "output_type": "stream",
     "text": [
      "[ INFO ]  Start training\n",
      "2022-08-22 15:02:06,897 - mmdet - INFO - Start running, host: mau@thinkpad, work_dir: /tmp/ote-det-scratch-_g6qhbxh/checkpoints_round_0\n"
     ]
    },
    {
     "name": "stdout",
     "output_type": "stream",
     "text": [
      "Use load_from_http loader\n",
      "The model and loaded state dict do not match exactly\n",
      "\n",
      "size mismatch for bbox_head.atss_cls.weight: copying a param with shape torch.Size([80, 64, 3, 3]) from checkpoint, the shape in current model is torch.Size([1, 64, 3, 3]).\n",
      "size mismatch for bbox_head.atss_cls.bias: copying a param with shape torch.Size([80]) from checkpoint, the shape in current model is torch.Size([1]).\n",
      "[ INFO ] Start running, host: mau@thinkpad, work_dir: /tmp/ote-det-scratch-_g6qhbxh/checkpoints_round_0\n"
     ]
    },
    {
     "name": "stderr",
     "output_type": "stream",
     "text": [
      "[ INFO ]  Start running, host: %s, work_dir: %s\n",
      "2022-08-22 15:02:06,898 - mmdet - INFO - Hooks will be executed in the following order:\n",
      "before_run:\n",
      "(VERY_HIGH   ) ReduceLROnPlateauLrUpdaterHook     \n",
      "(NORMAL      ) CheckpointHook                     \n",
      "(NORMAL      ) EvalHook                           \n",
      "(NORMAL      ) OTEProgressHook                    \n",
      "(75          ) EarlyStoppingHook                  \n",
      "(VERY_LOW    ) TextLoggerHook                     \n",
      "(VERY_LOW    ) OTELoggerHook                      \n",
      " -------------------- \n",
      "before_train_epoch:\n",
      "(VERY_HIGH   ) ReduceLROnPlateauLrUpdaterHook     \n",
      "(NORMAL      ) EvalHook                           \n",
      "(NORMAL      ) OTEProgressHook                    \n",
      "(LOW         ) IterTimerHook                      \n",
      "(VERY_LOW    ) TextLoggerHook                     \n",
      "(VERY_LOW    ) OTELoggerHook                      \n",
      " -------------------- \n",
      "before_train_iter:\n",
      "(VERY_HIGH   ) ReduceLROnPlateauLrUpdaterHook     \n",
      "(NORMAL      ) EvalHook                           \n",
      "(NORMAL      ) OTEProgressHook                    \n",
      "(LOW         ) IterTimerHook                      \n",
      " -------------------- \n",
      "after_train_iter:\n",
      "(ABOVE_NORMAL) OptimizerHook                      \n",
      "(NORMAL      ) CheckpointHook                     \n",
      "(NORMAL      ) EvalHook                           \n",
      "(NORMAL      ) CancelTrainingHook                 \n",
      "(NORMAL      ) OTEProgressHook                    \n",
      "(LOW         ) IterTimerHook                      \n",
      "(75          ) EarlyStoppingHook                  \n",
      "(VERY_LOW    ) TextLoggerHook                     \n",
      "(VERY_LOW    ) OTELoggerHook                      \n",
      " -------------------- \n",
      "after_train_epoch:\n",
      "(NORMAL      ) CheckpointHook                     \n",
      "(NORMAL      ) EvalHook                           \n",
      "(NORMAL      ) OTEProgressHook                    \n",
      "(75          ) EarlyStoppingHook                  \n",
      "(VERY_LOW    ) TextLoggerHook                     \n",
      "(VERY_LOW    ) OTELoggerHook                      \n",
      " -------------------- \n",
      "before_val_epoch:\n",
      "(NORMAL      ) OTEProgressHook                    \n",
      "(LOW         ) IterTimerHook                      \n",
      "(VERY_LOW    ) TextLoggerHook                     \n",
      "(VERY_LOW    ) OTELoggerHook                      \n",
      " -------------------- \n",
      "before_val_iter:\n",
      "(NORMAL      ) OTEProgressHook                    \n",
      "(LOW         ) IterTimerHook                      \n",
      " -------------------- \n",
      "after_val_iter:\n",
      "(NORMAL      ) OTEProgressHook                    \n",
      "(LOW         ) IterTimerHook                      \n",
      " -------------------- \n",
      "after_val_epoch:\n",
      "(NORMAL      ) OTEProgressHook                    \n",
      "(VERY_LOW    ) TextLoggerHook                     \n",
      "(VERY_LOW    ) OTELoggerHook                      \n",
      " -------------------- \n",
      "after_run:\n",
      "(NORMAL      ) OTEProgressHook                    \n",
      " -------------------- \n"
     ]
    },
    {
     "name": "stdout",
     "output_type": "stream",
     "text": [
      "[ INFO ] Hooks will be executed in the following order:\n",
      "before_run:\n",
      "(VERY_HIGH   ) ReduceLROnPlateauLrUpdaterHook     \n",
      "(NORMAL      ) CheckpointHook                     \n",
      "(NORMAL      ) EvalHook                           \n",
      "(NORMAL      ) OTEProgressHook                    \n",
      "(75          ) EarlyStoppingHook                  \n",
      "(VERY_LOW    ) TextLoggerHook                     \n",
      "(VERY_LOW    ) OTELoggerHook                      \n",
      " -------------------- \n",
      "before_train_epoch:\n",
      "(VERY_HIGH   ) ReduceLROnPlateauLrUpdaterHook     \n",
      "(NORMAL      ) EvalHook                           \n",
      "(NORMAL      ) OTEProgressHook                    \n",
      "(LOW         ) IterTimerHook                      \n",
      "(VERY_LOW    ) TextLoggerHook                     \n",
      "(VERY_LOW    ) OTELoggerHook                      \n",
      " -------------------- \n",
      "before_train_iter:\n",
      "(VERY_HIGH   ) ReduceLROnPlateauLrUpdaterHook     \n",
      "(NORMAL      ) EvalHook                           \n",
      "(NORMAL      ) OTEProgressHook                    \n",
      "(LOW         ) IterTimerHook                      \n",
      " -------------------- \n",
      "after_train_iter:\n",
      "(ABOVE_NORMAL) OptimizerHook                      \n",
      "(NORMAL      ) CheckpointHook                     \n",
      "(NORMAL      ) EvalHook                           \n",
      "(NORMAL      ) CancelTrainingHook                 \n",
      "(NORMAL      ) OTEProgressHook                    \n",
      "(LOW         ) IterTimerHook                      \n",
      "(75          ) EarlyStoppingHook                  \n",
      "(VERY_LOW    ) TextLoggerHook                     \n",
      "(VERY_LOW    ) OTELoggerHook                      \n",
      " -------------------- \n",
      "after_train_epoch:\n",
      "(NORMAL      ) CheckpointHook                     \n",
      "(NORMAL      ) EvalHook                           \n",
      "(NORMAL      ) OTEProgressHook                    \n",
      "(75          ) EarlyStoppingHook                  \n",
      "(VERY_LOW    ) TextLoggerHook                     \n",
      "(VERY_LOW    ) OTELoggerHook                      \n",
      " -------------------- \n",
      "before_val_epoch:\n",
      "(NORMAL      ) OTEProgressHook                    \n",
      "(LOW         ) IterTimerHook                      \n",
      "(VERY_LOW    ) TextLoggerHook                     \n",
      "(VERY_LOW    ) OTELoggerHook                      \n",
      " -------------------- \n",
      "before_val_iter:\n",
      "(NORMAL      ) OTEProgressHook                    \n",
      "(LOW         ) IterTimerHook                      \n",
      " -------------------- \n",
      "after_val_iter:\n",
      "(NORMAL      ) OTEProgressHook                    \n",
      "(LOW         ) IterTimerHook                      \n",
      " -------------------- \n",
      "after_val_epoch:\n",
      "(NORMAL      ) OTEProgressHook                    \n",
      "(VERY_LOW    ) TextLoggerHook                     \n",
      "(VERY_LOW    ) OTELoggerHook                      \n",
      " -------------------- \n",
      "after_run:\n",
      "(NORMAL      ) OTEProgressHook                    \n",
      " -------------------- \n"
     ]
    },
    {
     "name": "stderr",
     "output_type": "stream",
     "text": [
      "[ INFO ]  Hooks will be executed in the following order:\n",
      "%s\n",
      "2022-08-22 15:02:06,898 - mmdet - INFO - workflow: [('train', 1)], max: 5 epochs\n"
     ]
    },
    {
     "name": "stdout",
     "output_type": "stream",
     "text": [
      "[ INFO ] workflow: [('train', 1)], max: 5 epochs\n"
     ]
    },
    {
     "name": "stderr",
     "output_type": "stream",
     "text": [
      "[ INFO ]  workflow: %s, max: %d epochs\n"
     ]
    }
   ],
   "source": [
    "output_model = ModelEntity(\n",
    "    dataset,\n",
    "    environment.get_model_configuration(),\n",
    "    model_status=ModelStatus.NOT_READY)\n",
    "\n",
    "task.train(dataset, output_model)"
   ]
  },
  {
   "cell_type": "markdown",
   "id": "c235b6a8",
   "metadata": {},
   "source": [
    "## Evaluate quality metric"
   ]
  },
  {
   "cell_type": "code",
   "execution_count": 1,
   "id": "2bb7ffb6",
   "metadata": {
    "scrolled": true
   },
   "outputs": [
    {
     "ename": "NameError",
     "evalue": "name 'dataset' is not defined",
     "output_type": "error",
     "traceback": [
      "\u001b[0;31m---------------------------------------------------------------------------\u001b[0m",
      "\u001b[0;31mNameError\u001b[0m                                 Traceback (most recent call last)",
      "Input \u001b[0;32mIn [1]\u001b[0m, in \u001b[0;36m<cell line: 1>\u001b[0;34m()\u001b[0m\n\u001b[0;32m----> 1\u001b[0m validation_dataset \u001b[38;5;241m=\u001b[39m \u001b[43mdataset\u001b[49m\u001b[38;5;241m.\u001b[39mget_subset(Subset\u001b[38;5;241m.\u001b[39mVALIDATION)\n\u001b[1;32m      2\u001b[0m predicted_validation_dataset \u001b[38;5;241m=\u001b[39m task\u001b[38;5;241m.\u001b[39minfer(\n\u001b[1;32m      3\u001b[0m     validation_dataset\u001b[38;5;241m.\u001b[39mwith_empty_annotations(),\n\u001b[1;32m      4\u001b[0m     InferenceParameters(is_evaluation\u001b[38;5;241m=\u001b[39m\u001b[38;5;28;01mTrue\u001b[39;00m))\n\u001b[1;32m      6\u001b[0m resultset \u001b[38;5;241m=\u001b[39m ResultSetEntity(\n\u001b[1;32m      7\u001b[0m     model\u001b[38;5;241m=\u001b[39moutput_model,\n\u001b[1;32m      8\u001b[0m     ground_truth_dataset\u001b[38;5;241m=\u001b[39mvalidation_dataset,\n\u001b[1;32m      9\u001b[0m     prediction_dataset\u001b[38;5;241m=\u001b[39mpredicted_validation_dataset,\n\u001b[1;32m     10\u001b[0m )\n",
      "\u001b[0;31mNameError\u001b[0m: name 'dataset' is not defined"
     ]
    }
   ],
   "source": [
    "validation_dataset = dataset.get_subset(Subset.VALIDATION)\n",
    "predicted_validation_dataset = task.infer(\n",
    "    validation_dataset.with_empty_annotations(),\n",
    "    InferenceParameters(is_evaluation=True))\n",
    "\n",
    "resultset = ResultSetEntity(\n",
    "    model=output_model,\n",
    "    ground_truth_dataset=validation_dataset,\n",
    "    prediction_dataset=predicted_validation_dataset,\n",
    ")\n",
    "task.evaluate(resultset)\n",
    "print(resultset.performance)\n"
   ]
  },
  {
   "cell_type": "markdown",
   "id": "4784e973",
   "metadata": {},
   "source": [
    "## Export model to OpenVINO format"
   ]
  },
  {
   "cell_type": "code",
   "execution_count": null,
   "id": "04d5f811",
   "metadata": {
    "scrolled": true
   },
   "outputs": [],
   "source": [
    "exported_model = ModelEntity(\n",
    "    dataset,\n",
    "    environment.get_model_configuration(),\n",
    "    model_status=ModelStatus.NOT_READY)\n",
    "task.export(ExportType.OPENVINO, exported_model)"
   ]
  },
  {
   "cell_type": "markdown",
   "id": "7327b120",
   "metadata": {},
   "source": [
    "## Evaluate the exported model"
   ]
  },
  {
   "cell_type": "code",
   "execution_count": null,
   "id": "d6b01094",
   "metadata": {
    "scrolled": true
   },
   "outputs": [],
   "source": [
    "environment.model = exported_model\n",
    "ov_task = get_impl_class(model_template.entrypoints.openvino)(environment)\n",
    "predicted_validation_dataset = ov_task.infer(\n",
    "    validation_dataset.with_empty_annotations(),\n",
    "    InferenceParameters(is_evaluation=True))\n",
    "resultset = ResultSetEntity(\n",
    "    model=output_model,\n",
    "    ground_truth_dataset=validation_dataset,\n",
    "    prediction_dataset=predicted_validation_dataset,\n",
    ")\n",
    "ov_task.evaluate(resultset)\n",
    "print(resultset.performance)"
   ]
  },
  {
   "cell_type": "markdown",
   "id": "e810af6c",
   "metadata": {},
   "source": [
    "## Draw bounding boxes"
   ]
  },
  {
   "cell_type": "code",
   "execution_count": null,
   "id": "63bae4d5",
   "metadata": {
    "scrolled": false
   },
   "outputs": [],
   "source": [
    "import IPython\n",
    "import PIL\n",
    "\n",
    "for predictions, item in zip(predicted_validation_dataset, validation_dataset.with_empty_annotations()):\n",
    "    image = item.numpy.astype(np.uint8)\n",
    "    for box in predictions.annotation_scene.shapes:\n",
    "        x1 = int(box.x1 * image.shape[1])\n",
    "        x2 = int(box.x2 * image.shape[1])\n",
    "        y1 = int(box.y1 * image.shape[0])\n",
    "        y2 = int(box.y2 * image.shape[0])\n",
    "        cv2.rectangle(image, (x1, y1), (x2, y2), (0, 0, 255), 3)  \n",
    "    IPython.display.display(PIL.Image.fromarray(image))"
   ]
  }
 ],
 "metadata": {
  "kernelspec": {
   "display_name": "Python 3 (ipykernel)",
   "language": "python",
   "name": "python3"
  },
  "language_info": {
   "codemirror_mode": {
    "name": "ipython",
    "version": 3
   },
   "file_extension": ".py",
   "mimetype": "text/x-python",
   "name": "python",
   "nbconvert_exporter": "python",
   "pygments_lexer": "ipython3",
   "version": "3.8.10"
  }
 },
 "nbformat": 4,
 "nbformat_minor": 5
}
